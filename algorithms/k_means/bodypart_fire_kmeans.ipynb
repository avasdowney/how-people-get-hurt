{
 "cells": [
  {
   "cell_type": "code",
   "execution_count": 1,
   "metadata": {},
   "outputs": [],
   "source": [
    "from sklearn.preprocessing import LabelEncoder\n",
    "from sklearn.cluster import KMeans\n",
    "import pandas as pd\n",
    "import matplotlib.pyplot as plt\n",
    "import warnings\n",
    "warnings.filterwarnings('ignore')"
   ]
  },
  {
   "cell_type": "code",
   "execution_count": 2,
   "metadata": {},
   "outputs": [],
   "source": [
    "df = pd.read_csv('../../datasets/train.csv', encoding=\"latin-1\").drop(columns=['Other_Race', 'Hispanic', 'Other_Diagnosis', \n",
    "    'Body_Part_2', 'Diagnosis_2', 'Other_Diagnosis_2', 'Alcohol', 'Drug', 'Product_1', 'Product_2', 'Product_3']).dropna()"
   ]
  },
  {
   "cell_type": "code",
   "execution_count": 3,
   "metadata": {},
   "outputs": [
    {
     "data": {
      "text/html": [
       "<div>\n",
       "<style scoped>\n",
       "    .dataframe tbody tr th:only-of-type {\n",
       "        vertical-align: middle;\n",
       "    }\n",
       "\n",
       "    .dataframe tbody tr th {\n",
       "        vertical-align: top;\n",
       "    }\n",
       "\n",
       "    .dataframe thead th {\n",
       "        text-align: right;\n",
       "    }\n",
       "</style>\n",
       "<table border=\"1\" class=\"dataframe\">\n",
       "  <thead>\n",
       "    <tr style=\"text-align: right;\">\n",
       "      <th></th>\n",
       "      <th>Column1</th>\n",
       "      <th>CPSC_Case_Number</th>\n",
       "      <th>Treatment_Date</th>\n",
       "      <th>Age</th>\n",
       "      <th>Sex</th>\n",
       "      <th>Race</th>\n",
       "      <th>Body_Part</th>\n",
       "      <th>Diagnosis</th>\n",
       "      <th>Disposition</th>\n",
       "      <th>Location</th>\n",
       "      <th>Fire_Involvement</th>\n",
       "      <th>Narrative</th>\n",
       "      <th>Stratum</th>\n",
       "      <th>PSU</th>\n",
       "      <th>Weight</th>\n",
       "      <th>diagnosis_n</th>\n",
       "    </tr>\n",
       "  </thead>\n",
       "  <tbody>\n",
       "    <tr>\n",
       "      <th>0</th>\n",
       "      <td>900763</td>\n",
       "      <td>180608221.0</td>\n",
       "      <td>5/29/2018</td>\n",
       "      <td>25</td>\n",
       "      <td>1</td>\n",
       "      <td>2.0</td>\n",
       "      <td>35.0</td>\n",
       "      <td>71.0</td>\n",
       "      <td>1.0</td>\n",
       "      <td>9.0</td>\n",
       "      <td>0.0</td>\n",
       "      <td>25YOM PAIN TO KNEE WHEN LIFTING WEIGHTS       ...</td>\n",
       "      <td>L</td>\n",
       "      <td>42.0</td>\n",
       "      <td>55.4188</td>\n",
       "      <td>26</td>\n",
       "    </tr>\n",
       "    <tr>\n",
       "      <th>1</th>\n",
       "      <td>762342</td>\n",
       "      <td>180109488.0</td>\n",
       "      <td>1/1/2018</td>\n",
       "      <td>70</td>\n",
       "      <td>2</td>\n",
       "      <td>1.0</td>\n",
       "      <td>30.0</td>\n",
       "      <td>55.0</td>\n",
       "      <td>1.0</td>\n",
       "      <td>1.0</td>\n",
       "      <td>0.0</td>\n",
       "      <td>70 YOF PT STATES SHE FELL IN HER KITCHEN &amp; HIT...</td>\n",
       "      <td>M</td>\n",
       "      <td>16.0</td>\n",
       "      <td>78.3782</td>\n",
       "      <td>11</td>\n",
       "    </tr>\n",
       "    <tr>\n",
       "      <th>2</th>\n",
       "      <td>560150</td>\n",
       "      <td>170718633.0</td>\n",
       "      <td>7/5/2017</td>\n",
       "      <td>18</td>\n",
       "      <td>1</td>\n",
       "      <td>0.0</td>\n",
       "      <td>92.0</td>\n",
       "      <td>59.0</td>\n",
       "      <td>1.0</td>\n",
       "      <td>9.0</td>\n",
       "      <td>0.0</td>\n",
       "      <td>18 YO M LAC FINGER-4-WHEELER ACCIDENT</td>\n",
       "      <td>V</td>\n",
       "      <td>17.0</td>\n",
       "      <td>16.1828</td>\n",
       "      <td>15</td>\n",
       "    </tr>\n",
       "    <tr>\n",
       "      <th>3</th>\n",
       "      <td>464771</td>\n",
       "      <td>170429466.0</td>\n",
       "      <td>4/1/2017</td>\n",
       "      <td>17</td>\n",
       "      <td>2</td>\n",
       "      <td>1.0</td>\n",
       "      <td>34.0</td>\n",
       "      <td>53.0</td>\n",
       "      <td>1.0</td>\n",
       "      <td>0.0</td>\n",
       "      <td>0.0</td>\n",
       "      <td>17 YOF A SHELF FELL ONTO PT WRIST CAUSING A CO...</td>\n",
       "      <td>C</td>\n",
       "      <td>32.0</td>\n",
       "      <td>4.7570</td>\n",
       "      <td>9</td>\n",
       "    </tr>\n",
       "    <tr>\n",
       "      <th>4</th>\n",
       "      <td>866180</td>\n",
       "      <td>180504499.0</td>\n",
       "      <td>4/27/2018</td>\n",
       "      <td>27</td>\n",
       "      <td>1</td>\n",
       "      <td>2.0</td>\n",
       "      <td>35.0</td>\n",
       "      <td>64.0</td>\n",
       "      <td>1.0</td>\n",
       "      <td>0.0</td>\n",
       "      <td>0.0</td>\n",
       "      <td>27 YOM HAS KNEE PX WHICH WORSENS WHILE PLAYING...</td>\n",
       "      <td>V</td>\n",
       "      <td>93.0</td>\n",
       "      <td>16.5919</td>\n",
       "      <td>20</td>\n",
       "    </tr>\n",
       "  </tbody>\n",
       "</table>\n",
       "</div>"
      ],
      "text/plain": [
       "   Column1  CPSC_Case_Number Treatment_Date  Age  Sex  Race  Body_Part  \\\n",
       "0   900763       180608221.0      5/29/2018   25    1   2.0       35.0   \n",
       "1   762342       180109488.0       1/1/2018   70    2   1.0       30.0   \n",
       "2   560150       170718633.0       7/5/2017   18    1   0.0       92.0   \n",
       "3   464771       170429466.0       4/1/2017   17    2   1.0       34.0   \n",
       "4   866180       180504499.0      4/27/2018   27    1   2.0       35.0   \n",
       "\n",
       "   Diagnosis  Disposition  Location  Fire_Involvement  \\\n",
       "0       71.0          1.0       9.0               0.0   \n",
       "1       55.0          1.0       1.0               0.0   \n",
       "2       59.0          1.0       9.0               0.0   \n",
       "3       53.0          1.0       0.0               0.0   \n",
       "4       64.0          1.0       0.0               0.0   \n",
       "\n",
       "                                           Narrative Stratum   PSU   Weight  \\\n",
       "0  25YOM PAIN TO KNEE WHEN LIFTING WEIGHTS       ...       L  42.0  55.4188   \n",
       "1  70 YOF PT STATES SHE FELL IN HER KITCHEN & HIT...       M  16.0  78.3782   \n",
       "2              18 YO M LAC FINGER-4-WHEELER ACCIDENT       V  17.0  16.1828   \n",
       "3  17 YOF A SHELF FELL ONTO PT WRIST CAUSING A CO...       C  32.0   4.7570   \n",
       "4  27 YOM HAS KNEE PX WHICH WORSENS WHILE PLAYING...       V  93.0  16.5919   \n",
       "\n",
       "   diagnosis_n  \n",
       "0           26  \n",
       "1           11  \n",
       "2           15  \n",
       "3            9  \n",
       "4           20  "
      ]
     },
     "execution_count": 3,
     "metadata": {},
     "output_type": "execute_result"
    }
   ],
   "source": [
    "diagnosis = LabelEncoder()\n",
    "df[\"diagnosis_n\"] = diagnosis.fit_transform(df[\"Diagnosis\"])\n",
    "df.head()"
   ]
  },
  {
   "cell_type": "code",
   "execution_count": 4,
   "metadata": {},
   "outputs": [
    {
     "data": {
      "text/plain": [
       "(702542,)"
      ]
     },
     "execution_count": 4,
     "metadata": {},
     "output_type": "execute_result"
    }
   ],
   "source": [
    "X = df[\"diagnosis_n\"]\n",
    "X.shape"
   ]
  },
  {
   "cell_type": "code",
   "execution_count": 5,
   "metadata": {},
   "outputs": [
    {
     "data": {
      "text/plain": [
       "(702542,)"
      ]
     },
     "execution_count": 5,
     "metadata": {},
     "output_type": "execute_result"
    }
   ],
   "source": [
    "Y = df[\"Fire_Involvement\"]\n",
    "Y.shape"
   ]
  },
  {
   "cell_type": "code",
   "execution_count": 6,
   "metadata": {},
   "outputs": [
    {
     "name": "stdout",
     "output_type": "stream",
     "text": [
      "[[5.91213535e-04 1.39681062e+01]\n",
      " [1.28388981e-03 2.60322174e+01]\n",
      " [3.19359864e-02 8.28239626e+00]\n",
      " [1.01982295e-02 1.91308905e+01]]\n"
     ]
    }
   ],
   "source": [
    "data = {}\n",
    "data['fire involvement'] = Y\n",
    "data['diagnosis'] = X\n",
    "\n",
    "my_data = pd.DataFrame(data, columns=['fire involvement', 'diagnosis'])\n",
    "kmeans = KMeans(n_clusters=4).fit(my_data)\n",
    "centroids = kmeans.cluster_centers_\n",
    "print(centroids)"
   ]
  },
  {
   "cell_type": "code",
   "execution_count": 7,
   "metadata": {},
   "outputs": [
    {
     "data": {
      "image/png": "[encoded data removed]",
      "text/plain": [
       "<Figure size 360x720 with 1 Axes>"
      ]
     },
     "metadata": {
      "needs_background": "light"
     },
     "output_type": "display_data"
    }
   ],
   "source": [
    "plt.figure(figsize=(5,10))\n",
    "plt.title('Fire-Involvement-Diagnosis Clusters', fontsize=16)\n",
    "plt.xlabel('Fire Involvement', fontsize=12)\n",
    "plt.ylabel('Diagnosis', fontsize=12)\n",
    "plt.scatter(my_data['fire involvement'], my_data['diagnosis'], c=kmeans.labels_.astype(float), s=50, alpha=0.5)\n",
    "\n",
    "diagnosis = ['Ingestion', 'Aspiration', 'Burns, Electrical', 'Burns, Not Specified', 'Burns, Scald', 'Burns, Chemical', \n",
    "    'Amputation', 'Burns, Thermal', 'Concussions', 'Contusions, Abrasions', 'Crushing', 'Dislocation', 'Foreign Body',\n",
    "    'Fracture', 'Hematoma', 'Laceration', 'Dental Injury', 'Nerve Damage', 'Internal Organ Injury', 'Puncture',\n",
    "    'Strain, Sprain', 'Anoxia', 'Hemorrhage', 'Electric Shock', 'Poisoning', 'Submersion', 'Other/Not Stated',\n",
    "    'Avulsion', 'Burns, Radiation', 'Dermatitis, Conjunctivitis']\n",
    "y1 = [0, 1, 2, 3, 4, 5, 6, 7, 8, 9, 10, 11, 12, 13, 14, 15, 16, 17, 18, 19, 20, 21, 22, 23, 24, 25, 26, 27, 28, 29]\n",
    "fire_involvement = ['No Fire', 'Fire with FD', 'Fire no FD', 'Fire Unkown FD']\n",
    "x1 = [0, 1, 2, 3]\n",
    "plt.xticks(x1, fire_involvement, rotation=45)\n",
    "plt.yticks(y1, diagnosis, rotation=0)\n",
    "\n",
    "plt.savefig('../../outputs/fire-diagnosis-clusters.png')"
   ]
  }
 ],
 "metadata": {
  "interpreter": {
   "hash": "916dbcbb3f70747c44a77c7bcd40155683ae19c65e1c03b4aa3499c5328201f1"
  },
  "kernelspec": {
   "display_name": "Python 3.8.10 64-bit",
   "language": "python",
   "name": "python3"
  },
  "language_info": {
   "codemirror_mode": {
    "name": "ipython",
    "version": 3
   },
   "file_extension": ".py",
   "mimetype": "text/x-python",
   "name": "python",
   "nbconvert_exporter": "python",
   "pygments_lexer": "ipython3",
   "version": "3.8.10"
  },
  "orig_nbformat": 4
 },
 "nbformat": 4,
 "nbformat_minor": 2
}
