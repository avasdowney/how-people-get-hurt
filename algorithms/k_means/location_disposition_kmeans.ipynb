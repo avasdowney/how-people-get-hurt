{
 "cells": [
  {
   "cell_type": "code",
   "execution_count": 1,
   "metadata": {},
   "outputs": [],
   "source": [
    "from sklearn.preprocessing import LabelEncoder\n",
    "from sklearn.cluster import KMeans\n",
    "import pandas as pd\n",
    "import matplotlib.pyplot as plt\n",
    "import warnings\n",
    "warnings.filterwarnings('ignore')"
   ]
  },
  {
   "cell_type": "code",
   "execution_count": 2,
   "metadata": {},
   "outputs": [],
   "source": [
    "df = pd.read_csv('../../datasets/train.csv', encoding=\"latin-1\").drop(columns=['Other_Race', 'Hispanic', 'Other_Diagnosis', \n",
    "    'Body_Part_2', 'Diagnosis_2', 'Other_Diagnosis_2', 'Alcohol', 'Drug', 'Product_1', 'Product_2', 'Product_3']).dropna()"
   ]
  },
  {
   "cell_type": "code",
   "execution_count": 9,
   "metadata": {},
   "outputs": [
    {
     "data": {
      "text/html": [
       "<div>\n",
       "<style scoped>\n",
       "    .dataframe tbody tr th:only-of-type {\n",
       "        vertical-align: middle;\n",
       "    }\n",
       "\n",
       "    .dataframe tbody tr th {\n",
       "        vertical-align: top;\n",
       "    }\n",
       "\n",
       "    .dataframe thead th {\n",
       "        text-align: right;\n",
       "    }\n",
       "</style>\n",
       "<table border=\"1\" class=\"dataframe\">\n",
       "  <thead>\n",
       "    <tr style=\"text-align: right;\">\n",
       "      <th></th>\n",
       "      <th>Unnamed: 0</th>\n",
       "      <th>CPSC_Case_Number</th>\n",
       "      <th>Treatment_Date</th>\n",
       "      <th>Age</th>\n",
       "      <th>Sex</th>\n",
       "      <th>Race</th>\n",
       "      <th>Body_Part</th>\n",
       "      <th>Diagnosis</th>\n",
       "      <th>Disposition</th>\n",
       "      <th>Location</th>\n",
       "      <th>Fire_Involvement</th>\n",
       "      <th>Narrative</th>\n",
       "      <th>Stratum</th>\n",
       "      <th>PSU</th>\n",
       "      <th>Weight</th>\n",
       "      <th>disposition_n</th>\n",
       "      <th>location_n</th>\n",
       "    </tr>\n",
       "  </thead>\n",
       "  <tbody>\n",
       "    <tr>\n",
       "      <th>0</th>\n",
       "      <td>900763</td>\n",
       "      <td>180608221.0</td>\n",
       "      <td>5/29/2018</td>\n",
       "      <td>25</td>\n",
       "      <td>1</td>\n",
       "      <td>2.0</td>\n",
       "      <td>35.0</td>\n",
       "      <td>71.0</td>\n",
       "      <td>1.0</td>\n",
       "      <td>9.0</td>\n",
       "      <td>0.0</td>\n",
       "      <td>25YOM PAIN TO KNEE WHEN LIFTING WEIGHTS       ...</td>\n",
       "      <td>L</td>\n",
       "      <td>42.0</td>\n",
       "      <td>55.4188</td>\n",
       "      <td>0</td>\n",
       "      <td>8</td>\n",
       "    </tr>\n",
       "    <tr>\n",
       "      <th>1</th>\n",
       "      <td>762342</td>\n",
       "      <td>180109488.0</td>\n",
       "      <td>1/1/2018</td>\n",
       "      <td>70</td>\n",
       "      <td>2</td>\n",
       "      <td>1.0</td>\n",
       "      <td>30.0</td>\n",
       "      <td>55.0</td>\n",
       "      <td>1.0</td>\n",
       "      <td>1.0</td>\n",
       "      <td>0.0</td>\n",
       "      <td>70 YOF PT STATES SHE FELL IN HER KITCHEN &amp; HIT...</td>\n",
       "      <td>M</td>\n",
       "      <td>16.0</td>\n",
       "      <td>78.3782</td>\n",
       "      <td>0</td>\n",
       "      <td>1</td>\n",
       "    </tr>\n",
       "    <tr>\n",
       "      <th>2</th>\n",
       "      <td>560150</td>\n",
       "      <td>170718633.0</td>\n",
       "      <td>7/5/2017</td>\n",
       "      <td>18</td>\n",
       "      <td>1</td>\n",
       "      <td>0.0</td>\n",
       "      <td>92.0</td>\n",
       "      <td>59.0</td>\n",
       "      <td>1.0</td>\n",
       "      <td>9.0</td>\n",
       "      <td>0.0</td>\n",
       "      <td>18 YO M LAC FINGER-4-WHEELER ACCIDENT</td>\n",
       "      <td>V</td>\n",
       "      <td>17.0</td>\n",
       "      <td>16.1828</td>\n",
       "      <td>0</td>\n",
       "      <td>8</td>\n",
       "    </tr>\n",
       "    <tr>\n",
       "      <th>3</th>\n",
       "      <td>464771</td>\n",
       "      <td>170429466.0</td>\n",
       "      <td>4/1/2017</td>\n",
       "      <td>17</td>\n",
       "      <td>2</td>\n",
       "      <td>1.0</td>\n",
       "      <td>34.0</td>\n",
       "      <td>53.0</td>\n",
       "      <td>1.0</td>\n",
       "      <td>0.0</td>\n",
       "      <td>0.0</td>\n",
       "      <td>17 YOF A SHELF FELL ONTO PT WRIST CAUSING A CO...</td>\n",
       "      <td>C</td>\n",
       "      <td>32.0</td>\n",
       "      <td>4.7570</td>\n",
       "      <td>0</td>\n",
       "      <td>0</td>\n",
       "    </tr>\n",
       "    <tr>\n",
       "      <th>4</th>\n",
       "      <td>866180</td>\n",
       "      <td>180504499.0</td>\n",
       "      <td>4/27/2018</td>\n",
       "      <td>27</td>\n",
       "      <td>1</td>\n",
       "      <td>2.0</td>\n",
       "      <td>35.0</td>\n",
       "      <td>64.0</td>\n",
       "      <td>1.0</td>\n",
       "      <td>0.0</td>\n",
       "      <td>0.0</td>\n",
       "      <td>27 YOM HAS KNEE PX WHICH WORSENS WHILE PLAYING...</td>\n",
       "      <td>V</td>\n",
       "      <td>93.0</td>\n",
       "      <td>16.5919</td>\n",
       "      <td>0</td>\n",
       "      <td>0</td>\n",
       "    </tr>\n",
       "  </tbody>\n",
       "</table>\n",
       "</div>"
      ],
      "text/plain": [
       "   Unnamed: 0  CPSC_Case_Number Treatment_Date  Age  Sex  Race  Body_Part  \\\n",
       "0      900763       180608221.0      5/29/2018   25    1   2.0       35.0   \n",
       "1      762342       180109488.0       1/1/2018   70    2   1.0       30.0   \n",
       "2      560150       170718633.0       7/5/2017   18    1   0.0       92.0   \n",
       "3      464771       170429466.0       4/1/2017   17    2   1.0       34.0   \n",
       "4      866180       180504499.0      4/27/2018   27    1   2.0       35.0   \n",
       "\n",
       "   Diagnosis  Disposition  Location  Fire_Involvement  \\\n",
       "0       71.0          1.0       9.0               0.0   \n",
       "1       55.0          1.0       1.0               0.0   \n",
       "2       59.0          1.0       9.0               0.0   \n",
       "3       53.0          1.0       0.0               0.0   \n",
       "4       64.0          1.0       0.0               0.0   \n",
       "\n",
       "                                           Narrative Stratum   PSU   Weight  \\\n",
       "0  25YOM PAIN TO KNEE WHEN LIFTING WEIGHTS       ...       L  42.0  55.4188   \n",
       "1  70 YOF PT STATES SHE FELL IN HER KITCHEN & HIT...       M  16.0  78.3782   \n",
       "2              18 YO M LAC FINGER-4-WHEELER ACCIDENT       V  17.0  16.1828   \n",
       "3  17 YOF A SHELF FELL ONTO PT WRIST CAUSING A CO...       C  32.0   4.7570   \n",
       "4  27 YOM HAS KNEE PX WHICH WORSENS WHILE PLAYING...       V  93.0  16.5919   \n",
       "\n",
       "   disposition_n  location_n  \n",
       "0              0           8  \n",
       "1              0           1  \n",
       "2              0           8  \n",
       "3              0           0  \n",
       "4              0           0  "
      ]
     },
     "execution_count": 9,
     "metadata": {},
     "output_type": "execute_result"
    }
   ],
   "source": [
    "disposition = LabelEncoder()\n",
    "location = LabelEncoder()\n",
    "df[\"disposition_n\"] = disposition.fit_transform(df[\"Disposition\"])\n",
    "df[\"location_n\"] = disposition.fit_transform(df[\"Location\"])\n",
    "df.head()"
   ]
  },
  {
   "cell_type": "code",
   "execution_count": 10,
   "metadata": {},
   "outputs": [
    {
     "data": {
      "text/plain": [
       "(702542,)"
      ]
     },
     "execution_count": 10,
     "metadata": {},
     "output_type": "execute_result"
    }
   ],
   "source": [
    "X = df[\"location_n\"]\n",
    "X.shape"
   ]
  },
  {
   "cell_type": "code",
   "execution_count": 5,
   "metadata": {},
   "outputs": [
    {
     "data": {
      "text/plain": [
       "(702542,)"
      ]
     },
     "execution_count": 5,
     "metadata": {},
     "output_type": "execute_result"
    }
   ],
   "source": [
    "Y = df[\"disposition_n\"]\n",
    "Y.shape"
   ]
  },
  {
   "cell_type": "code",
   "execution_count": 17,
   "metadata": {},
   "outputs": [
    {
     "name": "stdout",
     "output_type": "stream",
     "text": [
      "[[0.00951041 0.59843947]\n",
      " [0.11544658 7.70871155]\n",
      " [0.35811238 3.76964817]\n",
      " [2.36327595 0.69814805]]\n"
     ]
    }
   ],
   "source": [
    "data = {}\n",
    "data['disposition'] = Y\n",
    "data['location'] = X\n",
    "\n",
    "my_data = pd.DataFrame(data, columns=['disposition', 'location'])\n",
    "kmeans = KMeans(n_clusters=4).fit(my_data)\n",
    "centroids = kmeans.cluster_centers_\n",
    "print(centroids)"
   ]
  },
  {
   "cell_type": "code",
   "execution_count": 18,
   "metadata": {},
   "outputs": [
    {
     "data": {
      "image/png": "[encoded data removed]",
      "text/plain": [
       "<Figure size 360x360 with 1 Axes>"
      ]
     },
     "metadata": {
      "needs_background": "light"
     },
     "output_type": "display_data"
    }
   ],
   "source": [
    "plt.figure(figsize=(5,5))\n",
    "plt.title('Location-Disposition Clusters', fontsize=16)\n",
    "plt.xlabel('Disposition', fontsize=12)\n",
    "plt.ylabel('Location', fontsize=12)\n",
    "plt.scatter(my_data['disposition'], my_data['location'], c=kmeans.labels_.astype(float), s=50, alpha=0.5)\n",
    "\n",
    "x1 = [0, 1, 2, 3, 4, 5, 6]\n",
    "y1 = [0, 1, 2, 3, 4, 5, 6, 7, 8]\n",
    "dispositions = ['Released', 'Transferred', 'Admitted', 'Observation', 'Not Seen', 'Death', 'Unknown']\n",
    "locations = ['Not Recorded', 'Home', 'Farm/Ranch', 'Street/Highway', 'Other Public Property', 'Mobile Home', 'Industrial',\n",
    "    'School/Daycare', 'Recreation/Sport Center']\n",
    "plt.xticks(x1, dispositions, rotation=45)\n",
    "plt.yticks(y1, locations, rotation=0)\n",
    "\n",
    "plt.savefig('../../outputs/location-disposition-clusters.png')"
   ]
  }
 ],
 "metadata": {
  "interpreter": {
   "hash": "916dbcbb3f70747c44a77c7bcd40155683ae19c65e1c03b4aa3499c5328201f1"
  },
  "kernelspec": {
   "display_name": "Python 3.8.10 64-bit",
   "language": "python",
   "name": "python3"
  },
  "language_info": {
   "codemirror_mode": {
    "name": "ipython",
    "version": 3
   },
   "file_extension": ".py",
   "mimetype": "text/x-python",
   "name": "python",
   "nbconvert_exporter": "python",
   "pygments_lexer": "ipython3",
   "version": "3.8.10"
  },
  "orig_nbformat": 4
 },
 "nbformat": 4,
 "nbformat_minor": 2
}
